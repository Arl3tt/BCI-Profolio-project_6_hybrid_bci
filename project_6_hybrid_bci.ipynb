{
 "cells": [
  {
   "cell_type": "markdown",
   "id": "ec770fcd",
   "metadata": {},
   "source": [
    "# BCI Portfolio Project 6: Hybrid BCI System"
   ]
  },
  {
   "cell_type": "code",
   "execution_count": 1,
   "id": "4e1480fa",
   "metadata": {},
   "outputs": [
    {
     "data": {
      "text/plain": [
       "'\\nGoal: Combine Motor Imagery and P300 features for improved control.\\n'"
      ]
     },
     "execution_count": 1,
     "metadata": {},
     "output_type": "execute_result"
    }
   ],
   "source": [
    "# BCI Portfolio Project 6: Hybrid BCI System\n",
    "\"\"\"\n",
    "Goal: Combine Motor Imagery and P300 features for improved control.\n",
    "\"\"\"\n",
    "# This would combine Project 3 + Project 4 features\n",
    "# Merge input channels or process separately then fuse in model"
   ]
  }
 ],
 "metadata": {
  "kernelspec": {
   "display_name": "Python 3",
   "language": "python",
   "name": "python3"
  },
  "language_info": {
   "codemirror_mode": {
    "name": "ipython",
    "version": 3
   },
   "file_extension": ".py",
   "mimetype": "text/x-python",
   "name": "python",
   "nbconvert_exporter": "python",
   "pygments_lexer": "ipython3",
   "version": "3.11.9"
  }
 },
 "nbformat": 4,
 "nbformat_minor": 5
}
